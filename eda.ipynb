{
 "cells": [
  {
   "cell_type": "code",
   "execution_count": null,
   "metadata": {},
   "outputs": [],
   "source": [
    "import gdown\n",
    "from pyunpack import Archive\n",
    "import os\n",
    "link = 'https://drive.google.com/file/d/1wWgIbkw-aTU6h1i4Zh7E8EF-ySgJQe48/view?usp=sharing'#dataset\n",
    "destination = 'CUB_200_2011.tgz'\n",
    "gdown.download(url=link, output=destination, quiet=False, fuzzy=True)\n",
    "Archive(destination).extractall('.')"
   ]
  },
  {
   "cell_type": "code",
   "execution_count": null,
   "metadata": {},
   "outputs": [],
   "source": [
    "import tensorflow as tf\n",
    "import numpy as np\n",
    "import matplotlib.pyplot as plt\n",
    "import os\n",
    "import IPython.display as display\n",
    "from PIL import Image\n",
    "import cv2\n",
    "import shutil"
   ]
  },
  {
   "cell_type": "code",
   "execution_count": null,
   "metadata": {},
   "outputs": [],
   "source": [
    "p = 'CUB_200_2011/images/'\n",
    "cl = os.listdir(p)\n",
    "print('class number: ',len(cl))"
   ]
  },
  {
   "cell_type": "code",
   "execution_count": null,
   "metadata": {},
   "outputs": [],
   "source": [
    "cont = 0\n",
    "l1,l2,l3,l4 = [],[],[],[]\n",
    "for k in cl:\n",
    "  if cont < 50: l1.append(k)\n",
    "  elif cont <100: l2.append(k)\n",
    "  elif cont <150: l3.append(k)\n",
    "  else: l4.append(k)\n",
    "  cont += 1\n",
    "\n",
    "clSize1,clSize2,clSize3,clSize4 = {},{},{},{}\n",
    "\n",
    "for a,s,d,f in zip(l1,l2,l3,l4):\n",
    "  clSize2[s[:3]] = len(os.listdir(p+s+'/'))\n",
    "  clSize3[d[:3]] = len(os.listdir(p+d+'/'))\n",
    "  clSize1[a[:3]] = len(os.listdir(p+a+'/'))\n",
    "  clSize4[f[:3]] = len(os.listdir(p+f+'/'))\n",
    "len(clSize1)"
   ]
  },
  {
   "cell_type": "code",
   "execution_count": null,
   "metadata": {},
   "outputs": [],
   "source": [
    "plt.figure(figsize = (10, 5))\n",
    "plt.title(\"Number of Images by Class\")\n",
    "plt.xticks(rotation ='vertical')\n",
    "plt.bar(*zip(*clSize1.items()))"
   ]
  },
  {
   "cell_type": "code",
   "execution_count": null,
   "metadata": {},
   "outputs": [],
   "source": [
    "plt.figure(figsize = (10, 5))\n",
    "plt.title(\"Number of Images by Class\")\n",
    "plt.xticks(rotation ='vertical')\n",
    "plt.bar(*zip(*clSize2.items()))"
   ]
  },
  {
   "cell_type": "code",
   "execution_count": null,
   "metadata": {},
   "outputs": [],
   "source": [
    "plt.figure(figsize = (10, 5))\n",
    "plt.title(\"Number of Images by Class\")\n",
    "plt.xticks(rotation ='vertical')\n",
    "plt.bar(*zip(*clSize3.items()))"
   ]
  },
  {
   "cell_type": "code",
   "execution_count": null,
   "metadata": {},
   "outputs": [],
   "source": [
    "plt.figure(figsize = (10, 5))\n",
    "plt.title(\"Number of Images by Class\")\n",
    "plt.xticks(rotation ='vertical')\n",
    "plt.bar(*zip(*clSize4.items()))"
   ]
  },
  {
   "cell_type": "code",
   "execution_count": null,
   "metadata": {},
   "outputs": [],
   "source": [
    "rng = np.random.default_rng()\n",
    "r1 = rng.choice(200, size=25, replace=False)\n",
    "r2 = rng.choice(30, size=25, replace=False)\n",
    "imgLst = []\n",
    "for i in range(len(r1)):\n",
    "  #print(clNum, imgNum)\n",
    "  img = os.listdir(p+cl[r1[i]]+'/')\n",
    "  imgLst.append(p+cl[r1[i]]+'/'+img[r2[i]])"
   ]
  },
  {
   "cell_type": "code",
   "execution_count": null,
   "metadata": {},
   "outputs": [],
   "source": [
    "def plotRandImgs():\n",
    "  rng = np.random.default_rng()\n",
    "  r1 = rng.choice(200, size=25, replace=False)\n",
    "  r2 = rng.choice(30, size=25, replace=False)\n",
    "  imgLst = []\n",
    "  clImg = []\n",
    "  for i in range(len(r1)):\n",
    "    #print(clNum, imgNum)\n",
    "    img = os.listdir(p+cl[r1[i]]+'/')\n",
    "    imgLst.append(p+cl[r1[i]]+'/'+img[r2[i]])\n",
    "    clImg.append(cl[r1[i]][:3])\n",
    "  w = 10\n",
    "  h = 10\n",
    "  fig = plt.figure(figsize=(9, 13))\n",
    "  columns = 5\n",
    "  rows = 5\n",
    "\n",
    "  # ax enables access to manipulate each of subplots\n",
    "  ax = []\n",
    "\n",
    "  for i in range(columns*rows):\n",
    "      img = cv2.imread(imgLst[i])[...,::-1]\n",
    "      # create subplot and append to ax\n",
    "      ax.append(fig.add_subplot(rows, columns, i+1))\n",
    "      ax[-1].set_title(clImg[i])  # set title\n",
    "      plt.imshow(img)\n",
    "  plt.show()\n",
    "\n",
    "plotRandImgs()"
   ]
  },
  {
   "cell_type": "markdown",
   "metadata": {},
   "source": [
    "While there are multiple species of birds in the dataset, many birds share a many characteristics, this is specially notable when it comes to certain bird subspecies, for example the Northern Waterthrush is very similar to the Louisiana Waterthrush. For this reason, it has been decided to use only one bird species per family.\n",
    "Northern Waterthrush:<br>\n",
    "\n",
    "Louisiana Waterthrush:<br>"
   ]
  },
  {
   "cell_type": "code",
   "execution_count": null,
   "metadata": {},
   "outputs": [],
   "source": [
    "famSet = set()\n",
    "noFam = []\n",
    "for i in cl:\n",
    "  if '_' in i:\n",
    "    famSet.add(i.split('_')[-1])\n",
    "  else: noFam.append(i)\n",
    "len(famSet)"
   ]
  },
  {
   "cell_type": "code",
   "execution_count": null,
   "metadata": {},
   "outputs": [],
   "source": [
    "os.mkdir('BirdFamilies')"
   ]
  },
  {
   "cell_type": "code",
   "execution_count": null,
   "metadata": {},
   "outputs": [],
   "source": [
    "for i in famSet:\n",
    "  l=[]\n",
    "  tem = []\n",
    "  for k in cl:\n",
    "    if i in k:\n",
    "      tem.append(k)\n",
    "\n",
    "  if len(tem) == 1:\n",
    "    noFam.extend(tem)\n",
    "    #print('tem: ',tem)\n",
    "    continue\n",
    "  l.extend(tem)\n",
    "  imgLst = [p+sp+'/'+os.listdir(p+sp+'/')[0] for sp in l]\n",
    "  spLst = [sp for sp in l]\n",
    "\n",
    "  w = 10\n",
    "  h = 10\n",
    "  fig = plt.figure(figsize=(8, 8))\n",
    "  #plt.title(i)\n",
    "  columns = 1\n",
    "  rows = len(l)\n",
    "  #print(len(l))\n",
    "  cont = 0\n",
    "  ax = []\n",
    "  for k in range(1, columns*rows +1):\n",
    "      #print(imgLst[cont], k)\n",
    "      img = cv2.imread(imgLst[cont])[...,::-1]\n",
    "      ax.append(fig.add_subplot(rows, columns, k))\n",
    "      ax[-1].set_title(spLst[cont])\n",
    "      plt.imshow(img)\n",
    "\n",
    "      cont+=1\n",
    "  #plt.show()\n",
    "\n",
    "  plt.savefig('BirdFamilies/'+i+'.png')"
   ]
  },
  {
   "cell_type": "code",
   "execution_count": null,
   "metadata": {},
   "outputs": [],
   "source": [
    "# The selected classes are the following\n",
    "Selected_Classes =['001','007','012','016','018','024','026','029','031','035','042',\n",
    "                   '047','053','055','059','068','071','073','077','083','090','095',\n",
    "                   '101','108','112','117','138','140','143','150','148','151','178',\n",
    "                   '184','185','191','193']\n",
    "len(noFam)"
   ]
  },
  {
   "cell_type": "code",
   "execution_count": null,
   "metadata": {},
   "outputs": [],
   "source": [
    "for i in Selected_Classes:\n",
    "  for k in cl:\n",
    "    if i in k[:3]:\n",
    "      noFam.append(k)"
   ]
  },
  {
   "cell_type": "code",
   "execution_count": null,
   "metadata": {},
   "outputs": [],
   "source": [
    "len(noFam)"
   ]
  },
  {
   "cell_type": "code",
   "execution_count": null,
   "metadata": {},
   "outputs": [],
   "source": [
    "os.mkdir('finalDataset')"
   ]
  },
  {
   "cell_type": "code",
   "execution_count": null,
   "metadata": {},
   "outputs": [],
   "source": [
    "for i in noFam:\n",
    "  spath = os.path.join(p, i)\n",
    "  dest_dir = 'finalDataset'\n",
    "  dest_dir = os.path.join(dest_dir,i)\n",
    "  os.mkdir(dest_dir)\n",
    "  for k in os.listdir(spath):\n",
    "    shutil.copy2(os.path.join(spath,k), dest_dir)"
   ]
  },
  {
   "cell_type": "code",
   "execution_count": null,
   "metadata": {},
   "outputs": [],
   "source": [
    "import pandas as pd \n",
    "\n",
    "df = pd.read_csv(\"CUB_200_2011/classes.txt\", sep=\" \",header=None) \n",
    "\n",
    "df = df[df[1].isin(noFam)]\n",
    "labels = df[0].copy()\n",
    "labels=labels.to_numpy()\n",
    "labels"
   ]
  }
 ],
 "metadata": {
  "language_info": {
   "name": "python"
  }
 },
 "nbformat": 4,
 "nbformat_minor": 2
}
